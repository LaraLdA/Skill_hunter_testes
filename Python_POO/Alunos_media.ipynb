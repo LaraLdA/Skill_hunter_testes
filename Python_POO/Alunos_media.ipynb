{
 "cells": [
  {
   "cell_type": "markdown",
   "id": "d14e8635",
   "metadata": {},
   "source": [
    "### Desafio: Dado um DataFrame com informações de alunos, encontre o aluno com a maior média de notas. Imprima o nome do aluno e sua média."
   ]
  },
  {
   "cell_type": "code",
   "execution_count": 1,
   "id": "a75dc90d",
   "metadata": {},
   "outputs": [],
   "source": [
    "import pandas as pd"
   ]
  },
  {
   "cell_type": "code",
   "execution_count": 2,
   "id": "6be4c7a3",
   "metadata": {},
   "outputs": [
    {
     "data": {
      "text/html": [
       "<div>\n",
       "<style scoped>\n",
       "    .dataframe tbody tr th:only-of-type {\n",
       "        vertical-align: middle;\n",
       "    }\n",
       "\n",
       "    .dataframe tbody tr th {\n",
       "        vertical-align: top;\n",
       "    }\n",
       "\n",
       "    .dataframe thead th {\n",
       "        text-align: right;\n",
       "    }\n",
       "</style>\n",
       "<table border=\"1\" class=\"dataframe\">\n",
       "  <thead>\n",
       "    <tr style=\"text-align: right;\">\n",
       "      <th></th>\n",
       "      <th>Aluno</th>\n",
       "      <th>Prova_1</th>\n",
       "      <th>Prova_2</th>\n",
       "      <th>Prova_3</th>\n",
       "    </tr>\n",
       "  </thead>\n",
       "  <tbody>\n",
       "    <tr>\n",
       "      <th>0</th>\n",
       "      <td>Lara</td>\n",
       "      <td>10.0</td>\n",
       "      <td>8.6</td>\n",
       "      <td>9.0</td>\n",
       "    </tr>\n",
       "    <tr>\n",
       "      <th>1</th>\n",
       "      <td>Marta</td>\n",
       "      <td>9.0</td>\n",
       "      <td>9.5</td>\n",
       "      <td>8.0</td>\n",
       "    </tr>\n",
       "    <tr>\n",
       "      <th>2</th>\n",
       "      <td>Marla</td>\n",
       "      <td>6.9</td>\n",
       "      <td>8.0</td>\n",
       "      <td>9.5</td>\n",
       "    </tr>\n",
       "    <tr>\n",
       "      <th>3</th>\n",
       "      <td>Theo</td>\n",
       "      <td>4.0</td>\n",
       "      <td>3.0</td>\n",
       "      <td>7.5</td>\n",
       "    </tr>\n",
       "    <tr>\n",
       "      <th>4</th>\n",
       "      <td>Marcos</td>\n",
       "      <td>5.5</td>\n",
       "      <td>0.0</td>\n",
       "      <td>4.8</td>\n",
       "    </tr>\n",
       "  </tbody>\n",
       "</table>\n",
       "</div>"
      ],
      "text/plain": [
       "    Aluno  Prova_1  Prova_2  Prova_3\n",
       "0    Lara     10.0      8.6      9.0\n",
       "1   Marta      9.0      9.5      8.0\n",
       "2   Marla      6.9      8.0      9.5\n",
       "3    Theo      4.0      3.0      7.5\n",
       "4  Marcos      5.5      0.0      4.8"
      ]
     },
     "execution_count": 2,
     "metadata": {},
     "output_type": "execute_result"
    }
   ],
   "source": [
    "# Criando um dataframe para o desafio\n",
    "data = {'Aluno': ['Lara', 'Marta', 'Marla','Theo','Marcos'],\n",
    "        'Prova_1': [10, 9.0, 6.9,4.0,5.5],\n",
    "        'Prova_2': [8.6, 9.5, 8.0,3.0,0.0],\n",
    "        'Prova_3': [9.0, 8.0, 9.5, 7.5,4.8]}\n",
    "df = pd.DataFrame(data)\n",
    "df"
   ]
  },
  {
   "cell_type": "code",
   "execution_count": 3,
   "id": "d8e702d0",
   "metadata": {},
   "outputs": [
    {
     "name": "stdout",
     "output_type": "stream",
     "text": [
      "Aluno com a maior média de notas:\n",
      "Nome: Lara\n",
      "Média: 9.200000000000001\n",
      "--\n",
      "Aluno com a menor média de notas:\n",
      "Nome: Marcos\n",
      "Média: 3.4333333333333336\n"
     ]
    }
   ],
   "source": [
    "# Calcular a média das notas para cada aluno\n",
    "df['Média'] = df[['Prova_1','Prova_2','Prova_3']].mean(axis=1)\n",
    "\n",
    "# Encontrar o aluno com a maior média\n",
    "aluno_maior_media = df.loc[df['Média'].idxmax()]\n",
    "aluno_menor_media = df.loc[df['Média'].idxmin()]\n",
    "\n",
    "# Imprimir o nome do aluno e sua média\n",
    "print('Aluno com a maior média de notas:')\n",
    "print('Nome:', aluno_maior_media['Aluno'])\n",
    "print('Média:', aluno_maior_media['Média'])\n",
    "print('--')\n",
    "print('Aluno com a menor média de notas:')\n",
    "print('Nome:', aluno_menor_media['Aluno'])\n",
    "print('Média:', aluno_menor_media['Média'])\n"
   ]
  }
 ],
 "metadata": {
  "kernelspec": {
   "display_name": "Python 3 (ipykernel)",
   "language": "python",
   "name": "python3"
  },
  "language_info": {
   "codemirror_mode": {
    "name": "ipython",
    "version": 3
   },
   "file_extension": ".py",
   "mimetype": "text/x-python",
   "name": "python",
   "nbconvert_exporter": "python",
   "pygments_lexer": "ipython3",
   "version": "3.9.12"
  }
 },
 "nbformat": 4,
 "nbformat_minor": 5
}
