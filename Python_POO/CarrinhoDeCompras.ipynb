{
 "cells": [
  {
   "cell_type": "markdown",
   "id": "6649fce4",
   "metadata": {},
   "source": [
    "### Python - Programação Orientada a Objetos"
   ]
  },
  {
   "cell_type": "markdown",
   "id": "96f59c19",
   "metadata": {},
   "source": [
    "Crie uma classe CarrinhoDeCompras que possa armazenar vários produtos. Cada produto é representado por uma classe Produto, que possui os atributos nome e preco. Implemente métodos para adicionar produtos ao carrinho, calcular o valor total da compra e exibir os produtos presentes no carrinho. Teste a classe criando uma instância, adicionando produtos e exibindo o valor total da compra."
   ]
  },
  {
   "cell_type": "code",
   "execution_count": 1,
   "id": "eb9ebe6e",
   "metadata": {},
   "outputs": [
    {
     "name": "stdout",
     "output_type": "stream",
     "text": [
      "Produto: Vestido longo - Preço: 130.0\n",
      "Produto: Guitarra - Preço: 600.59\n",
      "Produto: Escova - Preço: 9.99\n",
      "Valor total da compra: R$ 740.58\n"
     ]
    }
   ],
   "source": [
    "class CarrinhoDeCompras:\n",
    "    def __init__(self):\n",
    "        self.lista_produtos = []\n",
    "\n",
    "    def adicionar_produto(self, nome, preco):\n",
    "        produto = Produto(nome, preco)  #objeto da casse classe Produto\n",
    "        self.lista_produtos.append(produto)\n",
    "\n",
    "    def calcular_valor_total(self):\n",
    "        total = 0\n",
    "        for produto in self.lista_produtos:\n",
    "            total += produto.preco\n",
    "        return total\n",
    "\n",
    "    def exibir_produtos(self):\n",
    "        for produto in self.lista_produtos:\n",
    "            print(f\"Produto: {produto.nome} - Preço: {produto.preco}\")\n",
    "\n",
    "class Produto:\n",
    "    def __init__(self, nome, preco):\n",
    "        self.nome = nome\n",
    "        self.preco = preco\n",
    "        \n",
    "# Criando instância da classe CarrinhoDeCompras\n",
    "carrinho = CarrinhoDeCompras()\n",
    "\n",
    "# Adicionando produtos ao carrinho\n",
    "carrinho.adicionar_produto(\"Vestido longo\", 130.00)\n",
    "carrinho.adicionar_produto(\"Guitarra\", 600.59)\n",
    "carrinho.adicionar_produto(\"Escova\", 9.99)\n",
    "\n",
    "# Exibindo os produtos presentes no carrinho\n",
    "carrinho.exibir_produtos()\n",
    "\n",
    "# Calculando o valor total da compra\n",
    "total_compra = carrinho.calcular_valor_total()\n",
    "print(f\"Valor total da compra: R$ {total_compra}\")\n"
   ]
  },
  {
   "cell_type": "code",
   "execution_count": null,
   "id": "56bfc802",
   "metadata": {},
   "outputs": [],
   "source": []
  },
  {
   "cell_type": "code",
   "execution_count": null,
   "id": "d644efa5",
   "metadata": {},
   "outputs": [],
   "source": []
  }
 ],
 "metadata": {
  "kernelspec": {
   "display_name": "Python 3 (ipykernel)",
   "language": "python",
   "name": "python3"
  },
  "language_info": {
   "codemirror_mode": {
    "name": "ipython",
    "version": 3
   },
   "file_extension": ".py",
   "mimetype": "text/x-python",
   "name": "python",
   "nbconvert_exporter": "python",
   "pygments_lexer": "ipython3",
   "version": "3.9.12"
  }
 },
 "nbformat": 4,
 "nbformat_minor": 5
}
