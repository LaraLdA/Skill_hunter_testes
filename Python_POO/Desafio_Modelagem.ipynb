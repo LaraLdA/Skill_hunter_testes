{
 "cells": [
  {
   "cell_type": "markdown",
   "id": "5e2811da",
   "metadata": {},
   "source": [
    "### Python - Programação Orientada a Objetos"
   ]
  },
  {
   "cell_type": "markdown",
   "id": "f0e6f552",
   "metadata": {},
   "source": [
    "Desafio de Modelagem: Crie uma classe Carro com os atributos marca, modelo e ano. Em seguida, crie um objeto da classe Carro e atribua valores aos atributos. Por fim, implemente um método chamado apresentar_carro que exiba as informações do carro (marca, modelo e ano)."
   ]
  },
  {
   "cell_type": "code",
   "execution_count": 1,
   "id": "daadd84c",
   "metadata": {},
   "outputs": [
    {
     "name": "stdout",
     "output_type": "stream",
     "text": [
      "--\n",
      "Marca: BMW\n",
      "Modelo: Z8\n",
      "Ano: 2003\n",
      "--\n",
      "Marca: BMW\n",
      "Modelo: i8\n",
      "Ano: 2015\n"
     ]
    }
   ],
   "source": [
    "class Carro:\n",
    "    def __init__(self, marca, modelo, ano):\n",
    "        self.marca = marca\n",
    "        self.modelo = modelo\n",
    "        self.ano = ano\n",
    "    \n",
    "    def apresentar_carro(self):\n",
    "        print(\"--\")\n",
    "        print(f\"Marca: {self.marca}\")\n",
    "        print(f\"Modelo: {self.modelo}\")\n",
    "        print(f\"Ano: {self.ano}\")\n",
    "\n",
    "\n",
    "# Criando um objeto da classe Carro\n",
    "meu_carro = Carro(\"BMW\", \"Z8\", 2003)\n",
    "meu_carro2 = Carro(\"BMW\", \"i8\", 2015)\n",
    "\n",
    "\n",
    "# Chamando o método apresentar_carro para exibir as informações\n",
    "meu_carro.apresentar_carro()\n",
    "meu_carro2.apresentar_carro()\n"
   ]
  },
  {
   "cell_type": "code",
   "execution_count": null,
   "id": "2f9b2646",
   "metadata": {},
   "outputs": [],
   "source": []
  }
 ],
 "metadata": {
  "kernelspec": {
   "display_name": "Python 3 (ipykernel)",
   "language": "python",
   "name": "python3"
  },
  "language_info": {
   "codemirror_mode": {
    "name": "ipython",
    "version": 3
   },
   "file_extension": ".py",
   "mimetype": "text/x-python",
   "name": "python",
   "nbconvert_exporter": "python",
   "pygments_lexer": "ipython3",
   "version": "3.9.12"
  }
 },
 "nbformat": 4,
 "nbformat_minor": 5
}
