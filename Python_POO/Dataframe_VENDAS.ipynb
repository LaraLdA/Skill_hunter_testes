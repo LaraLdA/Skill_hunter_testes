{
 "cells": [
  {
   "cell_type": "markdown",
   "metadata": {},
   "source": [
    "### Análise de uma base de dados de Vendas\n",
    "GMV é uma sigla em inglês para Gross Merchandise Volume, que significa Volume Bruto de Mercadoria. Aqui, foi considerado como valor total das vendas."
   ]
  },
  {
   "cell_type": "code",
   "execution_count": 21,
   "metadata": {
    "id": "WndHAa-i7Hd2"
   },
   "outputs": [],
   "source": [
    "import pandas as pd\n",
    "import matplotlib.pyplot as plt\n",
    "import seaborn as sns\n",
    "import numpy as np\n",
    "import plotly.graph_objects as go\n",
    "import sklearn\n",
    "import plotly"
   ]
  },
  {
   "cell_type": "code",
   "execution_count": 3,
   "metadata": {
    "colab": {
     "base_uri": "https://localhost:8080/",
     "height": 354
    },
    "id": "uHLzni737Rk2",
    "outputId": "c944161d-b914-4276-ec7a-4492d6dc3f5f"
   },
   "outputs": [
    {
     "data": {
      "text/html": [
       "<div>\n",
       "<style scoped>\n",
       "    .dataframe tbody tr th:only-of-type {\n",
       "        vertical-align: middle;\n",
       "    }\n",
       "\n",
       "    .dataframe tbody tr th {\n",
       "        vertical-align: top;\n",
       "    }\n",
       "\n",
       "    .dataframe thead th {\n",
       "        text-align: right;\n",
       "    }\n",
       "</style>\n",
       "<table border=\"1\" class=\"dataframe\">\n",
       "  <thead>\n",
       "    <tr style=\"text-align: right;\">\n",
       "      <th></th>\n",
       "      <th>Nº de vendas</th>\n",
       "      <th>Nº de vendas confirmadas</th>\n",
       "      <th>Qtd de acessos</th>\n",
       "      <th>Data</th>\n",
       "      <th>GMV</th>\n",
       "      <th>Tipo</th>\n",
       "      <th>Categoria</th>\n",
       "      <th>Parceiro</th>\n",
       "      <th>Taxa de Conversão</th>\n",
       "      <th>Taxa de Confirmação</th>\n",
       "    </tr>\n",
       "  </thead>\n",
       "  <tbody>\n",
       "    <tr>\n",
       "      <th>0</th>\n",
       "      <td>7</td>\n",
       "      <td>7</td>\n",
       "      <td>91</td>\n",
       "      <td>2022-01-01</td>\n",
       "      <td>2776.28</td>\n",
       "      <td>Padrão</td>\n",
       "      <td>MODA E ACESSÓRIOS</td>\n",
       "      <td>Parceiro-1335</td>\n",
       "      <td>0.076923</td>\n",
       "      <td>1.0</td>\n",
       "    </tr>\n",
       "    <tr>\n",
       "      <th>1</th>\n",
       "      <td>4</td>\n",
       "      <td>2</td>\n",
       "      <td>35</td>\n",
       "      <td>2022-01-01</td>\n",
       "      <td>7842.22</td>\n",
       "      <td>Padrão</td>\n",
       "      <td>VIAGEM E TURISMO</td>\n",
       "      <td>Parceiro-1561</td>\n",
       "      <td>0.057143</td>\n",
       "      <td>0.5</td>\n",
       "    </tr>\n",
       "    <tr>\n",
       "      <th>2</th>\n",
       "      <td>2</td>\n",
       "      <td>1</td>\n",
       "      <td>16</td>\n",
       "      <td>2022-01-01</td>\n",
       "      <td>1599.00</td>\n",
       "      <td>Padrão</td>\n",
       "      <td>MODA E ACESSÓRIOS</td>\n",
       "      <td>Parceiro-169</td>\n",
       "      <td>0.062500</td>\n",
       "      <td>0.5</td>\n",
       "    </tr>\n",
       "    <tr>\n",
       "      <th>3</th>\n",
       "      <td>10</td>\n",
       "      <td>9</td>\n",
       "      <td>56</td>\n",
       "      <td>2022-01-01</td>\n",
       "      <td>4783.39</td>\n",
       "      <td>Padrão</td>\n",
       "      <td>MODA E ACESSÓRIOS</td>\n",
       "      <td>Parceiro-1785</td>\n",
       "      <td>0.160714</td>\n",
       "      <td>0.9</td>\n",
       "    </tr>\n",
       "    <tr>\n",
       "      <th>4</th>\n",
       "      <td>3</td>\n",
       "      <td>3</td>\n",
       "      <td>45</td>\n",
       "      <td>2022-01-01</td>\n",
       "      <td>6491.66</td>\n",
       "      <td>Padrão</td>\n",
       "      <td>LOJA DE DEPARTAMENTOS</td>\n",
       "      <td>Parceiro-1963</td>\n",
       "      <td>0.066667</td>\n",
       "      <td>1.0</td>\n",
       "    </tr>\n",
       "  </tbody>\n",
       "</table>\n",
       "</div>"
      ],
      "text/plain": [
       "   Nº de vendas  Nº de vendas confirmadas  Qtd de acessos       Data      GMV  \\\n",
       "0             7                         7              91 2022-01-01  2776.28   \n",
       "1             4                         2              35 2022-01-01  7842.22   \n",
       "2             2                         1              16 2022-01-01  1599.00   \n",
       "3            10                         9              56 2022-01-01  4783.39   \n",
       "4             3                         3              45 2022-01-01  6491.66   \n",
       "\n",
       "     Tipo              Categoria       Parceiro  Taxa de Conversão  \\\n",
       "0  Padrão      MODA E ACESSÓRIOS  Parceiro-1335           0.076923   \n",
       "1  Padrão       VIAGEM E TURISMO  Parceiro-1561           0.057143   \n",
       "2  Padrão      MODA E ACESSÓRIOS   Parceiro-169           0.062500   \n",
       "3  Padrão      MODA E ACESSÓRIOS  Parceiro-1785           0.160714   \n",
       "4  Padrão  LOJA DE DEPARTAMENTOS  Parceiro-1963           0.066667   \n",
       "\n",
       "   Taxa de Confirmação  \n",
       "0                  1.0  \n",
       "1                  0.5  \n",
       "2                  0.5  \n",
       "3                  0.9  \n",
       "4                  1.0  "
      ]
     },
     "execution_count": 3,
     "metadata": {},
     "output_type": "execute_result"
    }
   ],
   "source": [
    "db = pd.read_excel(\"db_vendas_m.xlsx\",header=1,na_values='#DIV/0!')\n",
    "db.head()"
   ]
  },
  {
   "cell_type": "markdown",
   "metadata": {},
   "source": [
    "### Conhecendo os dados"
   ]
  },
  {
   "cell_type": "code",
   "execution_count": 4,
   "metadata": {
    "colab": {
     "base_uri": "https://localhost:8080/"
    },
    "id": "cnoNAcqU7R1E",
    "outputId": "9c3db181-3bac-4641-a269-f2306153359a",
    "scrolled": true
   },
   "outputs": [
    {
     "name": "stdout",
     "output_type": "stream",
     "text": [
      "-------NULL VALUES PER FEATURE --------\n",
      "Nº de vendas                 0\n",
      "Nº de vendas confirmadas     0\n",
      "Qtd de acessos               0\n",
      "Data                         0\n",
      "GMV                          0\n",
      "Tipo                         0\n",
      "Categoria                    0\n",
      "Parceiro                     0\n",
      "Taxa de Conversão            0\n",
      "Taxa de Confirmação         66\n",
      "dtype: int64\n"
     ]
    }
   ],
   "source": [
    "print('-------NULL VALUES PER FEATURE --------')\n",
    "print(db.isna().sum())\n"
   ]
  },
  {
   "cell_type": "code",
   "execution_count": 5,
   "metadata": {
    "colab": {
     "base_uri": "https://localhost:8080/"
    },
    "id": "ZK7hhFVj7SAN",
    "outputId": "65a173ce-4cdb-45f7-b6ec-ee0cb4b01133"
   },
   "outputs": [
    {
     "data": {
      "text/plain": [
       "array(['MODA E ACESSÓRIOS', 'VIAGEM E TURISMO', 'LOJA DE DEPARTAMENTOS',\n",
       "       'MÓVEIS, CASA E DECORAÇÃO', 'BELEZA E SAÚDE', 'ESPORTE E LAZER',\n",
       "       'ALIMENTOS E BEBIDAS'], dtype='<U24')"
      ]
     },
     "execution_count": 5,
     "metadata": {},
     "output_type": "execute_result"
    }
   ],
   "source": [
    "unicos = db['Categoria'].unique()\n",
    "categorias=unicos.astype(str)\n",
    "categorias"
   ]
  },
  {
   "cell_type": "code",
   "execution_count": 6,
   "metadata": {
    "scrolled": true
   },
   "outputs": [
    {
     "name": "stdout",
     "output_type": "stream",
     "text": [
      "Nº de vendas                 859\n",
      "Nº de vendas confirmadas     800\n",
      "Qtd de acessos              1557\n",
      "Data                         135\n",
      "GMV                         2699\n",
      "Tipo                           2\n",
      "Categoria                      7\n",
      "Parceiro                      21\n",
      "Taxa de Conversão           2235\n",
      "Taxa de Confirmação         1314\n",
      "dtype: int64\n"
     ]
    }
   ],
   "source": [
    "print(db.nunique())"
   ]
  },
  {
   "cell_type": "code",
   "execution_count": 8,
   "metadata": {},
   "outputs": [
    {
     "data": {
      "text/plain": [
       "Parceiro-7749    40\n",
       "Parceiro-1785    15\n",
       "Parceiro-8152     9\n",
       "Parceiro-169      2\n",
       "Name: Parceiro, dtype: int64"
      ]
     },
     "execution_count": 8,
     "metadata": {},
     "output_type": "execute_result"
    }
   ],
   "source": [
    "database.loc[database['Nº de vendas']==0,'Parceiro'].value_counts()"
   ]
  },
  {
   "cell_type": "code",
   "execution_count": 9,
   "metadata": {
    "colab": {
     "base_uri": "https://localhost:8080/",
     "height": 685
    },
    "id": "IL8I5ulm9Wvy",
    "outputId": "f344fcbf-8a5c-43c1-99b4-6a72c2078a9a"
   },
   "outputs": [
    {
     "data": {
      "image/png": "[encoded data removed]",
      "text/plain": [
       "<Figure size 576x360 with 1 Axes>"
      ]
     },
     "metadata": {},
     "output_type": "display_data"
    }
   ],
   "source": [
    "import seaborn as sns \n",
    "sns.set(rc={'figure.figsize':(8,5)})\n",
    "plt.xticks(rotation=90)\n",
    "plt.title('CATEGORIAS')\n",
    "plt.style.use('ggplot')\n",
    "ax=sns.countplot(x='Categoria', data=database);\n",
    "ax.set(ylabel='QTD')\n",
    "\n",
    "plt.show()"
   ]
  },
  {
   "cell_type": "code",
   "execution_count": 10,
   "metadata": {},
   "outputs": [
    {
     "data": {
      "text/plain": [
       "Parceiro-233     135\n",
       "Parceiro-220     135\n",
       "Parceiro-1561    135\n",
       "Parceiro-1785    135\n",
       "Parceiro-1963    135\n",
       "Parceiro-62      135\n",
       "Parceiro-6539    135\n",
       "Parceiro-525     135\n",
       "Parceiro-395     135\n",
       "Parceiro-51      135\n",
       "Parceiro-6095    135\n",
       "Parceiro-1335    135\n",
       "Parceiro-82      135\n",
       "Parceiro-2171    135\n",
       "Parceiro-49      135\n",
       "Parceiro-262     135\n",
       "Parceiro-463     135\n",
       "Parceiro-2       135\n",
       "Parceiro-169     135\n",
       "Parceiro-7749    116\n",
       "Parceiro-8152     83\n",
       "Name: Parceiro, dtype: int64"
      ]
     },
     "execution_count": 10,
     "metadata": {},
     "output_type": "execute_result"
    }
   ],
   "source": [
    "database['Parceiro'].value_counts()"
   ]
  },
  {
   "cell_type": "code",
   "execution_count": 11,
   "metadata": {
    "scrolled": true
   },
   "outputs": [
    {
     "name": "stdout",
     "output_type": "stream",
     "text": [
      "<class 'pandas.core.frame.DataFrame'>\n",
      "Int64Index: 2764 entries, 1302 to 511\n",
      "Data columns (total 10 columns):\n",
      " #   Column                    Non-Null Count  Dtype         \n",
      "---  ------                    --------------  -----         \n",
      " 0   Nº de vendas              2764 non-null   int64         \n",
      " 1   Nº de vendas confirmadas  2764 non-null   int64         \n",
      " 2   Qtd de acessos            2764 non-null   int64         \n",
      " 3   Data                      2764 non-null   datetime64[ns]\n",
      " 4   GMV                       2764 non-null   float64       \n",
      " 5   Tipo                      2764 non-null   object        \n",
      " 6   Categoria                 2764 non-null   object        \n",
      " 7   Parceiro                  2764 non-null   object        \n",
      " 8   Taxa de Conversão         2764 non-null   float64       \n",
      " 9   Taxa de Confirmação       2698 non-null   float64       \n",
      "dtypes: datetime64[ns](1), float64(3), int64(3), object(3)\n",
      "memory usage: 237.5+ KB\n"
     ]
    }
   ],
   "source": [
    "database.info()"
   ]
  },
  {
   "cell_type": "markdown",
   "metadata": {},
   "source": [
    "#### Adicionando uma coluna com o mês"
   ]
  },
  {
   "cell_type": "code",
   "execution_count": 12,
   "metadata": {},
   "outputs": [
    {
     "data": {
      "text/html": [
       "<div>\n",
       "<style scoped>\n",
       "    .dataframe tbody tr th:only-of-type {\n",
       "        vertical-align: middle;\n",
       "    }\n",
       "\n",
       "    .dataframe tbody tr th {\n",
       "        vertical-align: top;\n",
       "    }\n",
       "\n",
       "    .dataframe thead th {\n",
       "        text-align: right;\n",
       "    }\n",
       "</style>\n",
       "<table border=\"1\" class=\"dataframe\">\n",
       "  <thead>\n",
       "    <tr style=\"text-align: right;\">\n",
       "      <th></th>\n",
       "      <th>Nº de vendas</th>\n",
       "      <th>Nº de vendas confirmadas</th>\n",
       "      <th>Qtd de acessos</th>\n",
       "      <th>Data</th>\n",
       "      <th>GMV</th>\n",
       "      <th>Tipo</th>\n",
       "      <th>Categoria</th>\n",
       "      <th>Parceiro</th>\n",
       "      <th>Taxa de Conversão</th>\n",
       "      <th>Taxa de Confirmação</th>\n",
       "      <th>Mês</th>\n",
       "    </tr>\n",
       "  </thead>\n",
       "  <tbody>\n",
       "    <tr>\n",
       "      <th>1302</th>\n",
       "      <td>14438</td>\n",
       "      <td>13232</td>\n",
       "      <td>64608</td>\n",
       "      <td>2022-03-07</td>\n",
       "      <td>3049979.51</td>\n",
       "      <td>Padrão</td>\n",
       "      <td>LOJA DE DEPARTAMENTOS</td>\n",
       "      <td>Parceiro-233</td>\n",
       "      <td>0.204804</td>\n",
       "      <td>0.916470</td>\n",
       "      <td>3</td>\n",
       "    </tr>\n",
       "    <tr>\n",
       "      <th>125</th>\n",
       "      <td>13709</td>\n",
       "      <td>12287</td>\n",
       "      <td>116919</td>\n",
       "      <td>2022-01-07</td>\n",
       "      <td>15545125.34</td>\n",
       "      <td>Promocional</td>\n",
       "      <td>LOJA DE DEPARTAMENTOS</td>\n",
       "      <td>Parceiro-220</td>\n",
       "      <td>0.105090</td>\n",
       "      <td>0.896273</td>\n",
       "      <td>1</td>\n",
       "    </tr>\n",
       "    <tr>\n",
       "      <th>2646</th>\n",
       "      <td>13254</td>\n",
       "      <td>12320</td>\n",
       "      <td>63073</td>\n",
       "      <td>2022-05-10</td>\n",
       "      <td>4279299.26</td>\n",
       "      <td>Promocional</td>\n",
       "      <td>LOJA DE DEPARTAMENTOS</td>\n",
       "      <td>Parceiro-233</td>\n",
       "      <td>0.195329</td>\n",
       "      <td>0.929531</td>\n",
       "      <td>5</td>\n",
       "    </tr>\n",
       "    <tr>\n",
       "      <th>123</th>\n",
       "      <td>12328</td>\n",
       "      <td>10951</td>\n",
       "      <td>87883</td>\n",
       "      <td>2022-01-07</td>\n",
       "      <td>13093126.61</td>\n",
       "      <td>Promocional</td>\n",
       "      <td>LOJA DE DEPARTAMENTOS</td>\n",
       "      <td>Parceiro-2</td>\n",
       "      <td>0.124609</td>\n",
       "      <td>0.888303</td>\n",
       "      <td>1</td>\n",
       "    </tr>\n",
       "    <tr>\n",
       "      <th>1407</th>\n",
       "      <td>12128</td>\n",
       "      <td>10978</td>\n",
       "      <td>61103</td>\n",
       "      <td>2022-03-12</td>\n",
       "      <td>4170689.03</td>\n",
       "      <td>Promocional</td>\n",
       "      <td>LOJA DE DEPARTAMENTOS</td>\n",
       "      <td>Parceiro-233</td>\n",
       "      <td>0.179664</td>\n",
       "      <td>0.905178</td>\n",
       "      <td>3</td>\n",
       "    </tr>\n",
       "  </tbody>\n",
       "</table>\n",
       "</div>"
      ],
      "text/plain": [
       "      Nº de vendas  Nº de vendas confirmadas  Qtd de acessos       Data  \\\n",
       "1302         14438                     13232           64608 2022-03-07   \n",
       "125          13709                     12287          116919 2022-01-07   \n",
       "2646         13254                     12320           63073 2022-05-10   \n",
       "123          12328                     10951           87883 2022-01-07   \n",
       "1407         12128                     10978           61103 2022-03-12   \n",
       "\n",
       "              GMV         Tipo              Categoria      Parceiro  \\\n",
       "1302   3049979.51       Padrão  LOJA DE DEPARTAMENTOS  Parceiro-233   \n",
       "125   15545125.34  Promocional  LOJA DE DEPARTAMENTOS  Parceiro-220   \n",
       "2646   4279299.26  Promocional  LOJA DE DEPARTAMENTOS  Parceiro-233   \n",
       "123   13093126.61  Promocional  LOJA DE DEPARTAMENTOS    Parceiro-2   \n",
       "1407   4170689.03  Promocional  LOJA DE DEPARTAMENTOS  Parceiro-233   \n",
       "\n",
       "      Taxa de Conversão  Taxa de Confirmação  Mês  \n",
       "1302           0.204804             0.916470    3  \n",
       "125            0.105090             0.896273    1  \n",
       "2646           0.195329             0.929531    5  \n",
       "123            0.124609             0.888303    1  \n",
       "1407           0.179664             0.905178    3  "
      ]
     },
     "execution_count": 12,
     "metadata": {},
     "output_type": "execute_result"
    }
   ],
   "source": [
    "database['Mês'] = pd.to_datetime(database['Data']).dt.month\n",
    "database.head()"
   ]
  },
  {
   "cell_type": "code",
   "execution_count": 13,
   "metadata": {
    "scrolled": true
   },
   "outputs": [
    {
     "data": {
      "text/html": [
       "<div>\n",
       "<style scoped>\n",
       "    .dataframe tbody tr th:only-of-type {\n",
       "        vertical-align: middle;\n",
       "    }\n",
       "\n",
       "    .dataframe tbody tr th {\n",
       "        vertical-align: top;\n",
       "    }\n",
       "\n",
       "    .dataframe thead th {\n",
       "        text-align: right;\n",
       "    }\n",
       "</style>\n",
       "<table border=\"1\" class=\"dataframe\">\n",
       "  <thead>\n",
       "    <tr style=\"text-align: right;\">\n",
       "      <th></th>\n",
       "      <th>Nº de vendas confirmadas</th>\n",
       "      <th>Nº de vendas</th>\n",
       "    </tr>\n",
       "    <tr>\n",
       "      <th>Categoria</th>\n",
       "      <th></th>\n",
       "      <th></th>\n",
       "    </tr>\n",
       "  </thead>\n",
       "  <tbody>\n",
       "    <tr>\n",
       "      <th>ALIMENTOS E BEBIDAS</th>\n",
       "      <td>157</td>\n",
       "      <td>633</td>\n",
       "    </tr>\n",
       "    <tr>\n",
       "      <th>BELEZA E SAÚDE</th>\n",
       "      <td>89516</td>\n",
       "      <td>115111</td>\n",
       "    </tr>\n",
       "    <tr>\n",
       "      <th>ESPORTE E LAZER</th>\n",
       "      <td>8083</td>\n",
       "      <td>9924</td>\n",
       "    </tr>\n",
       "    <tr>\n",
       "      <th>LOJA DE DEPARTAMENTOS</th>\n",
       "      <td>1175072</td>\n",
       "      <td>1324020</td>\n",
       "    </tr>\n",
       "    <tr>\n",
       "      <th>MODA E ACESSÓRIOS</th>\n",
       "      <td>45190</td>\n",
       "      <td>49113</td>\n",
       "    </tr>\n",
       "    <tr>\n",
       "      <th>MÓVEIS, CASA E DECORAÇÃO</th>\n",
       "      <td>6676</td>\n",
       "      <td>7354</td>\n",
       "    </tr>\n",
       "    <tr>\n",
       "      <th>VIAGEM E TURISMO</th>\n",
       "      <td>56135</td>\n",
       "      <td>82538</td>\n",
       "    </tr>\n",
       "  </tbody>\n",
       "</table>\n",
       "</div>"
      ],
      "text/plain": [
       "                          Nº de vendas confirmadas  Nº de vendas\n",
       "Categoria                                                       \n",
       "ALIMENTOS E BEBIDAS                            157           633\n",
       "BELEZA E SAÚDE                               89516        115111\n",
       "ESPORTE E LAZER                               8083          9924\n",
       "LOJA DE DEPARTAMENTOS                      1175072       1324020\n",
       "MODA E ACESSÓRIOS                            45190         49113\n",
       "MÓVEIS, CASA E DECORAÇÃO                      6676          7354\n",
       "VIAGEM E TURISMO                             56135         82538"
      ]
     },
     "execution_count": 13,
     "metadata": {},
     "output_type": "execute_result"
    }
   ],
   "source": [
    "database.filter(items=['Parceiro','Categoria','Nº de vendas confirmadas','Nº de vendas'])\\\n",
    "                  .groupby(['Categoria']).sum()"
   ]
  },
  {
   "cell_type": "markdown",
   "metadata": {},
   "source": [
    "### Skill hunter"
   ]
  },
  {
   "cell_type": "markdown",
   "metadata": {},
   "source": [
    "#### Analisando a quantidade de vendas"
   ]
  },
  {
   "cell_type": "markdown",
   "metadata": {},
   "source": [
    "Desafio: Dado um DataFrame com informações de vendas, calcule o valor total de vendas por mês e crie um gráfico de barras para visualizar os resultados."
   ]
  },
  {
   "cell_type": "code",
   "execution_count": 14,
   "metadata": {
    "scrolled": true
   },
   "outputs": [
    {
     "data": {
      "text/plain": [
       "Mês\n",
       "1    1.946758e+08\n",
       "2    1.820910e+08\n",
       "3    2.151501e+08\n",
       "4    1.496285e+08\n",
       "5    9.214652e+07\n",
       "Name: GMV, dtype: float64"
      ]
     },
     "execution_count": 14,
     "metadata": {},
     "output_type": "execute_result"
    }
   ],
   "source": [
    "vendas_por_mes = database.groupby('Mês')['GMV'].sum()\n",
    "vendas_por_mes"
   ]
  },
  {
   "cell_type": "code",
   "execution_count": 17,
   "metadata": {},
   "outputs": [
    {
     "data": {
      "image/png": "[encoded data removed]",
      "text/plain": [
       "<Figure size 576x432 with 1 Axes>"
      ]
     },
     "metadata": {},
     "output_type": "display_data"
    }
   ],
   "source": [
    "# Plotando em um gráfico de barras\n",
    "vendas_por_mes.plot(kind='bar', figsize=(8, 6))\n",
    "plt.xlabel('Mês')\n",
    "plt.ylabel('Valor Total de Vendas')\n",
    "plt.title('Valor Total de Vendas por Mês')\n",
    "plt.xticks(rotation=0)\n",
    "plt.show()"
   ]
  },
  {
   "cell_type": "markdown",
   "metadata": {},
   "source": [
    "### Total de vendas por parceiro em cada categoria"
   ]
  },
  {
   "cell_type": "code",
   "execution_count": 18,
   "metadata": {},
   "outputs": [
    {
     "data": {
      "text/html": [
       "<div>\n",
       "<style scoped>\n",
       "    .dataframe tbody tr th:only-of-type {\n",
       "        vertical-align: middle;\n",
       "    }\n",
       "\n",
       "    .dataframe tbody tr th {\n",
       "        vertical-align: top;\n",
       "    }\n",
       "\n",
       "    .dataframe thead th {\n",
       "        text-align: right;\n",
       "    }\n",
       "</style>\n",
       "<table border=\"1\" class=\"dataframe\">\n",
       "  <thead>\n",
       "    <tr style=\"text-align: right;\">\n",
       "      <th></th>\n",
       "      <th>Parceiro</th>\n",
       "      <th>Nº de vendas confirmadas</th>\n",
       "      <th>Nº de vendas</th>\n",
       "      <th>Data</th>\n",
       "      <th>Categoria</th>\n",
       "    </tr>\n",
       "  </thead>\n",
       "  <tbody>\n",
       "    <tr>\n",
       "      <th>1302</th>\n",
       "      <td>Parceiro-233</td>\n",
       "      <td>13232</td>\n",
       "      <td>14438</td>\n",
       "      <td>2022-03-07</td>\n",
       "      <td>LOJA DE DEPARTAMENTOS</td>\n",
       "    </tr>\n",
       "    <tr>\n",
       "      <th>125</th>\n",
       "      <td>Parceiro-220</td>\n",
       "      <td>12287</td>\n",
       "      <td>13709</td>\n",
       "      <td>2022-01-07</td>\n",
       "      <td>LOJA DE DEPARTAMENTOS</td>\n",
       "    </tr>\n",
       "    <tr>\n",
       "      <th>2646</th>\n",
       "      <td>Parceiro-233</td>\n",
       "      <td>12320</td>\n",
       "      <td>13254</td>\n",
       "      <td>2022-05-10</td>\n",
       "      <td>LOJA DE DEPARTAMENTOS</td>\n",
       "    </tr>\n",
       "    <tr>\n",
       "      <th>123</th>\n",
       "      <td>Parceiro-2</td>\n",
       "      <td>10951</td>\n",
       "      <td>12328</td>\n",
       "      <td>2022-01-07</td>\n",
       "      <td>LOJA DE DEPARTAMENTOS</td>\n",
       "    </tr>\n",
       "    <tr>\n",
       "      <th>1407</th>\n",
       "      <td>Parceiro-233</td>\n",
       "      <td>10978</td>\n",
       "      <td>12128</td>\n",
       "      <td>2022-03-12</td>\n",
       "      <td>LOJA DE DEPARTAMENTOS</td>\n",
       "    </tr>\n",
       "    <tr>\n",
       "      <th>...</th>\n",
       "      <td>...</td>\n",
       "      <td>...</td>\n",
       "      <td>...</td>\n",
       "      <td>...</td>\n",
       "      <td>...</td>\n",
       "    </tr>\n",
       "    <tr>\n",
       "      <th>451</th>\n",
       "      <td>Parceiro-7749</td>\n",
       "      <td>0</td>\n",
       "      <td>0</td>\n",
       "      <td>2022-01-23</td>\n",
       "      <td>ALIMENTOS E BEBIDAS</td>\n",
       "    </tr>\n",
       "    <tr>\n",
       "      <th>471</th>\n",
       "      <td>Parceiro-7749</td>\n",
       "      <td>0</td>\n",
       "      <td>0</td>\n",
       "      <td>2022-01-24</td>\n",
       "      <td>ALIMENTOS E BEBIDAS</td>\n",
       "    </tr>\n",
       "    <tr>\n",
       "      <th>491</th>\n",
       "      <td>Parceiro-7749</td>\n",
       "      <td>0</td>\n",
       "      <td>0</td>\n",
       "      <td>2022-01-25</td>\n",
       "      <td>ALIMENTOS E BEBIDAS</td>\n",
       "    </tr>\n",
       "    <tr>\n",
       "      <th>610</th>\n",
       "      <td>Parceiro-169</td>\n",
       "      <td>0</td>\n",
       "      <td>0</td>\n",
       "      <td>2022-02-01</td>\n",
       "      <td>MODA E ACESSÓRIOS</td>\n",
       "    </tr>\n",
       "    <tr>\n",
       "      <th>511</th>\n",
       "      <td>Parceiro-7749</td>\n",
       "      <td>0</td>\n",
       "      <td>0</td>\n",
       "      <td>2022-01-26</td>\n",
       "      <td>ALIMENTOS E BEBIDAS</td>\n",
       "    </tr>\n",
       "  </tbody>\n",
       "</table>\n",
       "<p>2764 rows × 5 columns</p>\n",
       "</div>"
      ],
      "text/plain": [
       "           Parceiro  Nº de vendas confirmadas  Nº de vendas       Data  \\\n",
       "1302   Parceiro-233                     13232         14438 2022-03-07   \n",
       "125    Parceiro-220                     12287         13709 2022-01-07   \n",
       "2646   Parceiro-233                     12320         13254 2022-05-10   \n",
       "123      Parceiro-2                     10951         12328 2022-01-07   \n",
       "1407   Parceiro-233                     10978         12128 2022-03-12   \n",
       "...             ...                       ...           ...        ...   \n",
       "451   Parceiro-7749                         0             0 2022-01-23   \n",
       "471   Parceiro-7749                         0             0 2022-01-24   \n",
       "491   Parceiro-7749                         0             0 2022-01-25   \n",
       "610    Parceiro-169                         0             0 2022-02-01   \n",
       "511   Parceiro-7749                         0             0 2022-01-26   \n",
       "\n",
       "                  Categoria  \n",
       "1302  LOJA DE DEPARTAMENTOS  \n",
       "125   LOJA DE DEPARTAMENTOS  \n",
       "2646  LOJA DE DEPARTAMENTOS  \n",
       "123   LOJA DE DEPARTAMENTOS  \n",
       "1407  LOJA DE DEPARTAMENTOS  \n",
       "...                     ...  \n",
       "451     ALIMENTOS E BEBIDAS  \n",
       "471     ALIMENTOS E BEBIDAS  \n",
       "491     ALIMENTOS E BEBIDAS  \n",
       "610       MODA E ACESSÓRIOS  \n",
       "511     ALIMENTOS E BEBIDAS  \n",
       "\n",
       "[2764 rows x 5 columns]"
      ]
     },
     "execution_count": 18,
     "metadata": {},
     "output_type": "execute_result"
    }
   ],
   "source": [
    "database.filter(items=['Parceiro', 'Nº de vendas confirmadas', 'Nº de vendas', 'Data','Categoria'])"
   ]
  },
  {
   "cell_type": "code",
   "execution_count": 22,
   "metadata": {},
   "outputs": [
    {
     "data": {
      "image/png": "[encoded data removed]",
      "text/plain": [
       "<Figure size 648x432 with 1 Axes>"
      ]
     },
     "metadata": {},
     "output_type": "display_data"
    }
   ],
   "source": [
    "# Agrupando as vendas por parceiro e obtendo a soma total de vendas\n",
    "vendas_por_parceiro = database.groupby('Parceiro')['Nº de vendas confirmadas'].sum()\n",
    "#unicas\n",
    "categorias_unicas = np.unique(categorias)\n",
    "# Obtendo a categoria de cada parceiro\n",
    "categorias_por_parceiro = database.groupby('Parceiro')['Categoria'].first()\n",
    "\n",
    "# Configurando o gráfico de barras\n",
    "plt.style.use('ggplot')\n",
    "fig, ax = plt.subplots(figsize=(9, 6))\n",
    "\n",
    "# Definindo as cores das barras com base nas categorias\n",
    "# Definir o número de cores desejado\n",
    "num_cores = len(categorias_unicas)\n",
    "\n",
    "# Utilizar um esquema de cores predefinido\n",
    "cores = sns.color_palette(\"Set2\", num_cores)\n",
    "\n",
    "\n",
    "for i, categoria in enumerate(categorias_unicas):\n",
    "    vendas_categoria = vendas_por_parceiro[categorias_por_parceiro == categoria]\n",
    "    ax.bar(vendas_categoria.index, vendas_categoria.values, color=cores[i])\n",
    "\n",
    "# Configurando os rótulos e o título do gráfico\n",
    "plt.ylabel('Total de Vendas confirmadas')\n",
    "plt.title('Total de Vendas por Parceiro e Categoria', pad=20)\n",
    "plt.xticks(rotation=90)\n",
    "# Adicionando os valores acima de cada barra com o espaçamento adequado\n",
    "for bar in ax.containers:\n",
    "    ax.bar_label(bar, fmt='%.0f', label_type='edge', padding=3)\n",
    "\n",
    "# Reposicionando a legenda no canto superior direito\n",
    "legendas = [plt.Rectangle((2, 1), 1,1 , color=cor) for cor in cores[:len(categorias_unicas)]]\n",
    "ax.legend(legendas, categorias_unicas)\n",
    "\n",
    "\n",
    "# Exibindo o gráfico\n",
    "plt.tight_layout()\n",
    "plt.savefig('totalvendasporParceiro.png', format='png',bbox_inches=\"tight\")\n",
    "plt.show()\n"
   ]
  },
  {
   "cell_type": "code",
   "execution_count": null,
   "metadata": {},
   "outputs": [],
   "source": []
  }
 ],
 "metadata": {
  "colab": {
   "provenance": [],
   "toc_visible": true
  },
  "kernelspec": {
   "display_name": "Python 3 (ipykernel)",
   "language": "python",
   "name": "python3"
  },
  "language_info": {
   "codemirror_mode": {
    "name": "ipython",
    "version": 3
   },
   "file_extension": ".py",
   "mimetype": "text/x-python",
   "name": "python",
   "nbconvert_exporter": "python",
   "pygments_lexer": "ipython3",
   "version": "3.9.12"
  }
 },
 "nbformat": 4,
 "nbformat_minor": 1
}
